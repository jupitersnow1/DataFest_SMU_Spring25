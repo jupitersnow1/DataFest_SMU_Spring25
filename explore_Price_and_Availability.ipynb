{
 "cells": [
  {
   "cell_type": "code",
   "id": "initial_id",
   "metadata": {
    "collapsed": true,
    "ExecuteTime": {
     "end_time": "2025-04-12T22:57:56.529410Z",
     "start_time": "2025-04-12T22:57:56.526747Z"
    }
   },
   "source": [
    "import pygris\n",
    "import censusdata\n",
    "import pandas as pd"
   ],
   "outputs": [],
   "execution_count": 29
  },
  {
   "metadata": {
    "ExecuteTime": {
     "end_time": "2025-04-12T22:57:57.722646Z",
     "start_time": "2025-04-12T22:57:57.708855Z"
    }
   },
   "cell_type": "code",
   "source": "censusdata.printtable(censusdata.available())  # Lists datasets like acs5, acs1, etc.\n",
   "id": "6a3755b29069a3e3",
   "outputs": [
    {
     "ename": "AttributeError",
     "evalue": "module 'censusdata' has no attribute 'available'",
     "output_type": "error",
     "traceback": [
      "\u001B[0;31m---------------------------------------------------------------------------\u001B[0m",
      "\u001B[0;31mAttributeError\u001B[0m                            Traceback (most recent call last)",
      "Cell \u001B[0;32mIn[30], line 1\u001B[0m\n\u001B[0;32m----> 1\u001B[0m censusdata\u001B[38;5;241m.\u001B[39mprinttable(censusdata\u001B[38;5;241m.\u001B[39mavailable())\n",
      "\u001B[0;31mAttributeError\u001B[0m: module 'censusdata' has no attribute 'available'"
     ]
    }
   ],
   "execution_count": 30
  },
  {
   "metadata": {
    "ExecuteTime": {
     "end_time": "2025-04-12T22:00:47.185602Z",
     "start_time": "2025-04-12T22:00:47.158802Z"
    }
   },
   "cell_type": "code",
   "source": [
    "    LU_df = pd.read_csv(\"data/Leases_join_unemply.csv\")\n",
    "    LU_df"
   ],
   "id": "dad5f4ac9dc60dbc",
   "outputs": [
    {
     "ename": "AttributeError",
     "evalue": "module 'censusdata' has no attribute 'set_key'",
     "output_type": "error",
     "traceback": [
      "\u001B[0;31m---------------------------------------------------------------------------\u001B[0m",
      "\u001B[0;31mAttributeError\u001B[0m                            Traceback (most recent call last)",
      "Cell \u001B[0;32mIn[27], line 1\u001B[0m\n\u001B[0;32m----> 1\u001B[0m censusdata\u001B[38;5;241m.\u001B[39mset_key(\u001B[38;5;124m\"\u001B[39m\u001B[38;5;124m441b28724e-b6b5f21acbc4e3abfe707d4183aca\u001B[39m\u001B[38;5;124m\"\u001B[39m, install\u001B[38;5;241m=\u001B[39m\u001B[38;5;28;01mTrue\u001B[39;00m, overwrite\u001B[38;5;241m=\u001B[39m\u001B[38;5;28;01mTrue\u001B[39;00m)\n\u001B[1;32m      3\u001B[0m LU_df \u001B[38;5;241m=\u001B[39m pd\u001B[38;5;241m.\u001B[39mread_csv(\u001B[38;5;124m\"\u001B[39m\u001B[38;5;124mLeases_join_unemply.csv\u001B[39m\u001B[38;5;124m\"\u001B[39m)\n\u001B[1;32m      4\u001B[0m LU_df\n",
      "\u001B[0;31mAttributeError\u001B[0m: module 'censusdata' has no attribute 'set_key'"
     ]
    }
   ],
   "execution_count": 27
  },
  {
   "metadata": {
    "ExecuteTime": {
     "end_time": "2025-04-12T20:33:25.003265Z",
     "start_time": "2025-04-12T20:33:24.929112Z"
    }
   },
   "cell_type": "code",
   "source": [
    "# counting the number of items in this dataset\n",
    "missing_values_count = LU_df.isnull().sum().sort_values(ascending=False)\n",
    "\n",
    "# Print the result\n",
    "print(missing_values_count)"
   ],
   "id": "4771d3626a466c64",
   "outputs": [
    {
     "name": "stdout",
     "output_type": "stream",
     "text": [
      "internal_industry                 168284\n",
      "company_name                      157469\n",
      "internal_market_cluster           118847\n",
      "sublet_overall_rent                73011\n",
      "sublet_internal_class_rent         73011\n",
      "sublet_availability_proportion     73011\n",
      "sublet_available_space             73011\n",
      "direct_overall_rent                73011\n",
      "direct_available_space             73011\n",
      "direct_internal_class_rent         73011\n",
      "direct_availability_proportion     73011\n",
      "unemployment_rate                  56116\n",
      "available_space                    49144\n",
      "RBA                                49144\n",
      "overall_rent                       49144\n",
      "availability_proportion            49144\n",
      "internal_class_rent                49144\n",
      "leasing                            49144\n",
      "building_name                      36686\n",
      "space_type                          7545\n",
      "monthsigned                          863\n",
      "transaction_type                     539\n",
      "internal_class                         9\n",
      "zip                                    1\n",
      "year                                   0\n",
      "CBD_suburban                           0\n",
      "quarter                                0\n",
      "leasedSF                               0\n",
      "internal_submarket                     0\n",
      "state                                  0\n",
      "city                                   0\n",
      "region                                 0\n",
      "address                                0\n",
      "building_id                            0\n",
      "market                                 0\n",
      "costarID                               0\n",
      "dtype: int64\n"
     ]
    }
   ],
   "execution_count": 22
  },
  {
   "metadata": {
    "ExecuteTime": {
     "end_time": "2025-04-12T20:33:42.853899Z",
     "start_time": "2025-04-12T20:33:42.841066Z"
    }
   },
   "cell_type": "code",
   "source": [
    "top_10 = LU_df['market'].value_counts(ascending=False).head(10)\n",
    "print(top_10)"
   ],
   "id": "975b7cd508127fdc",
   "outputs": [
    {
     "name": "stdout",
     "output_type": "stream",
     "text": [
      "market\n",
      "Manhattan          16961\n",
      "Houston            16014\n",
      "Los Angeles        15571\n",
      "Dallas/Ft Worth    15272\n",
      "South Florida      11919\n",
      "Denver              8957\n",
      "Boston              8236\n",
      "Atlanta             7739\n",
      "Phoenix             7379\n",
      "Orange County       7196\n",
      "Name: count, dtype: int64\n"
     ]
    }
   ],
   "execution_count": 23
  },
  {
   "metadata": {},
   "cell_type": "markdown",
   "source": "## Features to be considered Availability",
   "id": "96409f78a82369a8"
  },
  {
   "metadata": {
    "ExecuteTime": {
     "end_time": "2025-04-12T21:03:06.927086Z",
     "start_time": "2025-04-12T21:03:06.136353Z"
    }
   },
   "cell_type": "code",
   "source": [
    "# space location, available space, tech, high population, could be different for each\n",
    "\n",
    "import matplotlib as plt\n",
    "import seaborn as sns\n",
    "\n",
    "# Load or prepare your DataFrame\n",
    "\n",
    "df = pd.read_csv('data/Leases_join_unemply.csv')\n",
    "\n",
    "new_df = df[['available_space', 'leasing', 'overall_rent']]\n",
    "\n",
    "# Only use numeric columns\n",
    "numeric_df = new_df.select_dtypes(include='number')\n",
    "\n",
    "# Compute the correlation matrix\n",
    "corr_matrix = numeric_df.corr()\n",
    "\n",
    "# Plot the heatmap\n",
    "# plt.figure(figsize=(10, 8))\n",
    "sns.heatmap(corr_matrix, annot=True, cmap='coolwarm', fmt='.2f')\n",
    "plt.title(\"Correlation Heatmap\")\n",
    "plt.show()"
   ],
   "id": "435f868f7a867572",
   "outputs": [
    {
     "ename": "AttributeError",
     "evalue": "module 'matplotlib' has no attribute 'title'",
     "output_type": "error",
     "traceback": [
      "\u001B[0;31m---------------------------------------------------------------------------\u001B[0m",
      "\u001B[0;31mAttributeError\u001B[0m                            Traceback (most recent call last)",
      "Cell \u001B[0;32mIn[26], line 21\u001B[0m\n\u001B[1;32m     18\u001B[0m \u001B[38;5;66;03m# Plot the heatmap\u001B[39;00m\n\u001B[1;32m     19\u001B[0m \u001B[38;5;66;03m# plt.figure(figsize=(10, 8))\u001B[39;00m\n\u001B[1;32m     20\u001B[0m sns\u001B[38;5;241m.\u001B[39mheatmap(corr_matrix, annot\u001B[38;5;241m=\u001B[39m\u001B[38;5;28;01mTrue\u001B[39;00m, cmap\u001B[38;5;241m=\u001B[39m\u001B[38;5;124m'\u001B[39m\u001B[38;5;124mcoolwarm\u001B[39m\u001B[38;5;124m'\u001B[39m, fmt\u001B[38;5;241m=\u001B[39m\u001B[38;5;124m'\u001B[39m\u001B[38;5;124m.2f\u001B[39m\u001B[38;5;124m'\u001B[39m)\n\u001B[0;32m---> 21\u001B[0m plt\u001B[38;5;241m.\u001B[39mtitle(\u001B[38;5;124m\"\u001B[39m\u001B[38;5;124mCorrelation Heatmap\u001B[39m\u001B[38;5;124m\"\u001B[39m)\n\u001B[1;32m     22\u001B[0m plt\u001B[38;5;241m.\u001B[39mshow()\n",
      "File \u001B[0;32m~/anaconda3/lib/python3.11/site-packages/matplotlib/_api/__init__.py:217\u001B[0m, in \u001B[0;36mcaching_module_getattr.<locals>.__getattr__\u001B[0;34m(name)\u001B[0m\n\u001B[1;32m    215\u001B[0m \u001B[38;5;28;01mif\u001B[39;00m name \u001B[38;5;129;01min\u001B[39;00m props:\n\u001B[1;32m    216\u001B[0m     \u001B[38;5;28;01mreturn\u001B[39;00m props[name]\u001B[38;5;241m.\u001B[39m\u001B[38;5;21m__get__\u001B[39m(instance)\n\u001B[0;32m--> 217\u001B[0m \u001B[38;5;28;01mraise\u001B[39;00m \u001B[38;5;167;01mAttributeError\u001B[39;00m(\n\u001B[1;32m    218\u001B[0m     \u001B[38;5;124mf\u001B[39m\u001B[38;5;124m\"\u001B[39m\u001B[38;5;124mmodule \u001B[39m\u001B[38;5;132;01m{\u001B[39;00m\u001B[38;5;28mcls\u001B[39m\u001B[38;5;241m.\u001B[39m\u001B[38;5;18m__module__\u001B[39m\u001B[38;5;132;01m!r}\u001B[39;00m\u001B[38;5;124m has no attribute \u001B[39m\u001B[38;5;132;01m{\u001B[39;00mname\u001B[38;5;132;01m!r}\u001B[39;00m\u001B[38;5;124m\"\u001B[39m)\n",
      "\u001B[0;31mAttributeError\u001B[0m: module 'matplotlib' has no attribute 'title'"
     ]
    },
    {
     "data": {
      "text/plain": [
       "<Figure size 640x480 with 2 Axes>"
      ],
      "image/png": "[encoded data removed]"
     },
     "metadata": {},
     "output_type": "display_data"
    }
   ],
   "execution_count": 26
  },
  {
   "metadata": {},
   "cell_type": "code",
   "outputs": [],
   "execution_count": null,
   "source": "",
   "id": "44578efcc8d61247"
  },
  {
   "metadata": {},
   "cell_type": "code",
   "outputs": [],
   "execution_count": null,
   "source": [
    "# space location, available space, tech, high population, could be different for each\n",
    "\n",
    "import matplotlib as plt\n",
    "import seaborn as sns\n",
    "\n",
    "# Load or prepare your DataFrame\n",
    "\n",
    "df = pd.read_csv('data/Leases_join_unemply.csv')\n",
    "\n",
    "#\n",
    "new_df = df[['available_space', 'leasing', 'overall_rent']]\n",
    "\n",
    "# Only use numeric columns\n",
    "numeric_df = new_df.select_dtypes(include='number')\n",
    "\n",
    "# Compute the correlation matrix\n",
    "corr_matrix = numeric_df.corr()\n",
    "\n",
    "# Plot the heatmap\n",
    "# plt.figure(figsize=(10, 8))\n",
    "sns.heatmap(corr_matrix, annot=True, cmap='coolwarm', fmt='.2f')\n",
    "plt.title(\"Correlation Heatmap\")\n",
    "plt.show()"
   ],
   "id": "49cbb47b559d1ad5"
  }
 ],
 "metadata": {
  "kernelspec": {
   "display_name": "Python 3",
   "language": "python",
   "name": "python3"
  },
  "language_info": {
   "codemirror_mode": {
    "name": "ipython",
    "version": 2
   },
   "file_extension": ".py",
   "mimetype": "text/x-python",
   "name": "python",
   "nbconvert_exporter": "python",
   "pygments_lexer": "ipython2",
   "version": "2.7.6"
  }
 },
 "nbformat": 4,
 "nbformat_minor": 5
}
