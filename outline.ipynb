{
 "cells": [
  {
   "cell_type": "code",
   "id": "initial_id",
   "metadata": {
    "collapsed": true,
    "ExecuteTime": {
     "end_time": "2025-04-13T01:45:50.596705Z",
     "start_time": "2025-04-13T01:45:50.594316Z"
    }
   },
   "source": "import pandas as pd",
   "outputs": [],
   "execution_count": 5
  },
  {
   "metadata": {
    "ExecuteTime": {
     "end_time": "2025-04-13T01:45:52.749340Z",
     "start_time": "2025-04-13T01:45:52.163007Z"
    }
   },
   "cell_type": "code",
   "source": [
    "LJU_df = pd.read_csv('data/Leases_join_unemply.csv')\n",
    "LJU_df.head()"
   ],
   "id": "2b5172f7a475285d",
   "outputs": [
    {
     "data": {
      "text/plain": [
       "   year quarter  monthsigned   market            building_name  \\\n",
       "0  2018      Q1          1.0  Atlanta  10 Glenlake North Tower   \n",
       "1  2018      Q1          1.0  Atlanta            100 City View   \n",
       "2  2018      Q1          1.0  Atlanta            1000 Parkwood   \n",
       "3  2018      Q1          1.0  Atlanta           1100 Circle 75   \n",
       "4  2018      Q1          1.0  Atlanta             1200 Ashwood   \n",
       "\n",
       "                                         building_id                address  \\\n",
       "0  Atlanta_Central Perimeter_Atlanta_10 Glenlake ...     10 Glenlake Pky NE   \n",
       "1  Atlanta_Northwest_Atlanta_100 City View_3330 C...   3330 Cumberland Blvd   \n",
       "2  Atlanta_Northwest_Atlanta_1000 Parkwood_1000 P...   1000 Parkwood Cir SE   \n",
       "3  Atlanta_Northwest_Atlanta_1100 Circle 75_1100 ...  1100 Circle 75 Pky SE   \n",
       "4  Atlanta_Central Perimeter_Atlanta_1200 Ashwood...       1200 Ashwood Pky   \n",
       "\n",
       "  region     city state  ...  direct_available_space  \\\n",
       "0  South  Atlanta    GA  ...                     NaN   \n",
       "1  South  Atlanta    GA  ...                     NaN   \n",
       "2  South  Atlanta    GA  ...                     NaN   \n",
       "3  South  Atlanta    GA  ...                     NaN   \n",
       "4  South  Atlanta    GA  ...                     NaN   \n",
       "\n",
       "  direct_availability_proportion direct_internal_class_rent  \\\n",
       "0                            NaN                        NaN   \n",
       "1                            NaN                        NaN   \n",
       "2                            NaN                        NaN   \n",
       "3                            NaN                        NaN   \n",
       "4                            NaN                        NaN   \n",
       "\n",
       "   direct_overall_rent sublet_available_space sublet_availability_proportion  \\\n",
       "0                  NaN                    NaN                            NaN   \n",
       "1                  NaN                    NaN                            NaN   \n",
       "2                  NaN                    NaN                            NaN   \n",
       "3                  NaN                    NaN                            NaN   \n",
       "4                  NaN                    NaN                            NaN   \n",
       "\n",
       "  sublet_internal_class_rent sublet_overall_rent    leasing unemployment_rate  \n",
       "0                        NaN                 NaN  1205126.0               4.3  \n",
       "1                        NaN                 NaN  1205126.0               4.3  \n",
       "2                        NaN                 NaN  1205126.0               4.3  \n",
       "3                        NaN                 NaN   715742.0               4.3  \n",
       "4                        NaN                 NaN  1205126.0               4.3  \n",
       "\n",
       "[5 rows x 36 columns]"
      ],
      "text/html": [
       "<div>\n",
       "<style scoped>\n",
       "    .dataframe tbody tr th:only-of-type {\n",
       "        vertical-align: middle;\n",
       "    }\n",
       "\n",
       "    .dataframe tbody tr th {\n",
       "        vertical-align: top;\n",
       "    }\n",
       "\n",
       "    .dataframe thead th {\n",
       "        text-align: right;\n",
       "    }\n",
       "</style>\n",
       "<table border=\"1\" class=\"dataframe\">\n",
       "  <thead>\n",
       "    <tr style=\"text-align: right;\">\n",
       "      <th></th>\n",
       "      <th>year</th>\n",
       "      <th>quarter</th>\n",
       "      <th>monthsigned</th>\n",
       "      <th>market</th>\n",
       "      <th>building_name</th>\n",
       "      <th>building_id</th>\n",
       "      <th>address</th>\n",
       "      <th>region</th>\n",
       "      <th>city</th>\n",
       "      <th>state</th>\n",
       "      <th>...</th>\n",
       "      <th>direct_available_space</th>\n",
       "      <th>direct_availability_proportion</th>\n",
       "      <th>direct_internal_class_rent</th>\n",
       "      <th>direct_overall_rent</th>\n",
       "      <th>sublet_available_space</th>\n",
       "      <th>sublet_availability_proportion</th>\n",
       "      <th>sublet_internal_class_rent</th>\n",
       "      <th>sublet_overall_rent</th>\n",
       "      <th>leasing</th>\n",
       "      <th>unemployment_rate</th>\n",
       "    </tr>\n",
       "  </thead>\n",
       "  <tbody>\n",
       "    <tr>\n",
       "      <th>0</th>\n",
       "      <td>2018</td>\n",
       "      <td>Q1</td>\n",
       "      <td>1.0</td>\n",
       "      <td>Atlanta</td>\n",
       "      <td>10 Glenlake North Tower</td>\n",
       "      <td>Atlanta_Central Perimeter_Atlanta_10 Glenlake ...</td>\n",
       "      <td>10 Glenlake Pky NE</td>\n",
       "      <td>South</td>\n",
       "      <td>Atlanta</td>\n",
       "      <td>GA</td>\n",
       "      <td>...</td>\n",
       "      <td>NaN</td>\n",
       "      <td>NaN</td>\n",
       "      <td>NaN</td>\n",
       "      <td>NaN</td>\n",
       "      <td>NaN</td>\n",
       "      <td>NaN</td>\n",
       "      <td>NaN</td>\n",
       "      <td>NaN</td>\n",
       "      <td>1205126.0</td>\n",
       "      <td>4.3</td>\n",
       "    </tr>\n",
       "    <tr>\n",
       "      <th>1</th>\n",
       "      <td>2018</td>\n",
       "      <td>Q1</td>\n",
       "      <td>1.0</td>\n",
       "      <td>Atlanta</td>\n",
       "      <td>100 City View</td>\n",
       "      <td>Atlanta_Northwest_Atlanta_100 City View_3330 C...</td>\n",
       "      <td>3330 Cumberland Blvd</td>\n",
       "      <td>South</td>\n",
       "      <td>Atlanta</td>\n",
       "      <td>GA</td>\n",
       "      <td>...</td>\n",
       "      <td>NaN</td>\n",
       "      <td>NaN</td>\n",
       "      <td>NaN</td>\n",
       "      <td>NaN</td>\n",
       "      <td>NaN</td>\n",
       "      <td>NaN</td>\n",
       "      <td>NaN</td>\n",
       "      <td>NaN</td>\n",
       "      <td>1205126.0</td>\n",
       "      <td>4.3</td>\n",
       "    </tr>\n",
       "    <tr>\n",
       "      <th>2</th>\n",
       "      <td>2018</td>\n",
       "      <td>Q1</td>\n",
       "      <td>1.0</td>\n",
       "      <td>Atlanta</td>\n",
       "      <td>1000 Parkwood</td>\n",
       "      <td>Atlanta_Northwest_Atlanta_1000 Parkwood_1000 P...</td>\n",
       "      <td>1000 Parkwood Cir SE</td>\n",
       "      <td>South</td>\n",
       "      <td>Atlanta</td>\n",
       "      <td>GA</td>\n",
       "      <td>...</td>\n",
       "      <td>NaN</td>\n",
       "      <td>NaN</td>\n",
       "      <td>NaN</td>\n",
       "      <td>NaN</td>\n",
       "      <td>NaN</td>\n",
       "      <td>NaN</td>\n",
       "      <td>NaN</td>\n",
       "      <td>NaN</td>\n",
       "      <td>1205126.0</td>\n",
       "      <td>4.3</td>\n",
       "    </tr>\n",
       "    <tr>\n",
       "      <th>3</th>\n",
       "      <td>2018</td>\n",
       "      <td>Q1</td>\n",
       "      <td>1.0</td>\n",
       "      <td>Atlanta</td>\n",
       "      <td>1100 Circle 75</td>\n",
       "      <td>Atlanta_Northwest_Atlanta_1100 Circle 75_1100 ...</td>\n",
       "      <td>1100 Circle 75 Pky SE</td>\n",
       "      <td>South</td>\n",
       "      <td>Atlanta</td>\n",
       "      <td>GA</td>\n",
       "      <td>...</td>\n",
       "      <td>NaN</td>\n",
       "      <td>NaN</td>\n",
       "      <td>NaN</td>\n",
       "      <td>NaN</td>\n",
       "      <td>NaN</td>\n",
       "      <td>NaN</td>\n",
       "      <td>NaN</td>\n",
       "      <td>NaN</td>\n",
       "      <td>715742.0</td>\n",
       "      <td>4.3</td>\n",
       "    </tr>\n",
       "    <tr>\n",
       "      <th>4</th>\n",
       "      <td>2018</td>\n",
       "      <td>Q1</td>\n",
       "      <td>1.0</td>\n",
       "      <td>Atlanta</td>\n",
       "      <td>1200 Ashwood</td>\n",
       "      <td>Atlanta_Central Perimeter_Atlanta_1200 Ashwood...</td>\n",
       "      <td>1200 Ashwood Pky</td>\n",
       "      <td>South</td>\n",
       "      <td>Atlanta</td>\n",
       "      <td>GA</td>\n",
       "      <td>...</td>\n",
       "      <td>NaN</td>\n",
       "      <td>NaN</td>\n",
       "      <td>NaN</td>\n",
       "      <td>NaN</td>\n",
       "      <td>NaN</td>\n",
       "      <td>NaN</td>\n",
       "      <td>NaN</td>\n",
       "      <td>NaN</td>\n",
       "      <td>1205126.0</td>\n",
       "      <td>4.3</td>\n",
       "    </tr>\n",
       "  </tbody>\n",
       "</table>\n",
       "<p>5 rows × 36 columns</p>\n",
       "</div>"
      ]
     },
     "execution_count": 6,
     "metadata": {},
     "output_type": "execute_result"
    }
   ],
   "execution_count": 6
  },
  {
   "metadata": {
    "ExecuteTime": {
     "end_time": "2025-04-13T01:46:37.849539Z",
     "start_time": "2025-04-13T01:46:37.099697Z"
    }
   },
   "cell_type": "code",
   "source": [
    "\n",
    "import matplotlib as plt\n",
    "import seaborn as sns\n",
    "\n",
    "# Load or prepare your DataFrame\n",
    "\n",
    "df = pd.read_csv('./data/Leases_join_unemply.csv')\n",
    "\n",
    "new_df = df[['available_space', 'leasing', 'overall_rent', 'unemployment_rate']]\n",
    "\n",
    "# Only use numeric columns\n",
    "numeric_df = new_df.select_dtypes(include='number')\n",
    "\n",
    "# Compute the correlation matrix\n",
    "corr_matrix = numeric_df.corr()\n",
    "\n",
    "# Plot the heatmap\n",
    "# plt.figure(figsize=(10, 8))\n",
    "sns.heatmap(corr_matrix, annot=True, cmap='coolwarm', fmt='.2f')\n",
    "# plt.title(\"Correlation Heatmap\")\n",
    "plt"
   ],
   "id": "4d7b8abf63864d54",
   "outputs": [
    {
     "data": {
      "text/plain": [
       "<module 'matplotlib' from '/Users/jacquelinesanchez/anaconda3/lib/python3.11/site-packages/matplotlib/__init__.py'>"
      ]
     },
     "execution_count": 10,
     "metadata": {},
     "output_type": "execute_result"
    },
    {
     "data": {
      "text/plain": [
       "<Figure size 640x480 with 2 Axes>"
      ],
      "image/png": "[encoded data removed]"
     },
     "metadata": {},
     "output_type": "display_data"
    }
   ],
   "execution_count": 10
  },
  {
   "metadata": {
    "ExecuteTime": {
     "end_time": "2025-04-13T01:46:45.063344Z",
     "start_time": "2025-04-13T01:46:44.349935Z"
    }
   },
   "cell_type": "code",
   "source": [
    "import pandas as pd\n",
    "import matplotlib.pyplot as plt  # <-- correct import\n",
    "import seaborn as sns\n",
    "\n",
    "# Load your DataFrame\n",
    "df = pd.read_csv('./data/Leases_join_unemply.csv')\n",
    "\n",
    "# Select specific columns\n",
    "new_df = df[['available_space', 'leasing', 'overall_rent', 'unemployment_rate', 'leasing']]\n",
    "\n",
    "# Keep only numeric columns\n",
    "numeric_df = new_df.select_dtypes(include='number')\n",
    "\n",
    "# Compute correlation matrix\n",
    "corr_matrix = numeric_df.corr()\n",
    "\n",
    "# Plot heatmap with fixed color scale range\n",
    "plt.figure(figsize=(8, 6))\n",
    "sns.heatmap(corr_matrix, annot=True, cmap='coolwarm', fmt='.2f', vmin=-1, vmax=1)\n",
    "# plt.title(\"Correlation Heatmap (Range -1 to 1)\")\n",
    "plt.tight_layout()\n",
    "plt.show()\n"
   ],
   "id": "62938a6c5bf19457",
   "outputs": [
    {
     "data": {
      "text/plain": [
       "<Figure size 800x600 with 2 Axes>"
      ],
      "image/png": "[encoded data removed]"
     },
     "metadata": {},
     "output_type": "display_data"
    }
   ],
   "execution_count": 12
  },
  {
   "metadata": {
    "ExecuteTime": {
     "end_time": "2025-04-13T01:46:47.316673Z",
     "start_time": "2025-04-13T01:46:47.254729Z"
    }
   },
   "cell_type": "code",
   "source": [
    "# looking what variables has the most missing values\n",
    "missing_values_count = LJU_df.isnull().sum().sort_values(ascending=False)\n",
    "missing_values_count"
   ],
   "id": "c8bea95a271fa768",
   "outputs": [
    {
     "data": {
      "text/plain": [
       "internal_industry                 168284\n",
       "company_name                      157469\n",
       "internal_market_cluster           118847\n",
       "sublet_overall_rent                73011\n",
       "sublet_internal_class_rent         73011\n",
       "sublet_availability_proportion     73011\n",
       "sublet_available_space             73011\n",
       "direct_overall_rent                73011\n",
       "direct_available_space             73011\n",
       "direct_internal_class_rent         73011\n",
       "direct_availability_proportion     73011\n",
       "unemployment_rate                  56116\n",
       "available_space                    49144\n",
       "RBA                                49144\n",
       "overall_rent                       49144\n",
       "availability_proportion            49144\n",
       "internal_class_rent                49144\n",
       "leasing                            49144\n",
       "building_name                      36686\n",
       "space_type                          7545\n",
       "monthsigned                          863\n",
       "transaction_type                     539\n",
       "internal_class                         9\n",
       "zip                                    1\n",
       "year                                   0\n",
       "CBD_suburban                           0\n",
       "quarter                                0\n",
       "leasedSF                               0\n",
       "internal_submarket                     0\n",
       "state                                  0\n",
       "city                                   0\n",
       "region                                 0\n",
       "address                                0\n",
       "building_id                            0\n",
       "market                                 0\n",
       "costarID                               0\n",
       "dtype: int64"
      ]
     },
     "execution_count": 13,
     "metadata": {},
     "output_type": "execute_result"
    }
   ],
   "execution_count": 13
  },
  {
   "metadata": {},
   "cell_type": "markdown",
   "source": [
    "### Analysis\n",
    "Some predictors to consider\n",
    "\n",
    "* transaction_type (categorical)\n"
   ],
   "id": "be7e30780baa025"
  },
  {
   "metadata": {
    "ExecuteTime": {
     "end_time": "2025-04-13T01:46:49.603066Z",
     "start_time": "2025-04-13T01:46:49.591688Z"
    }
   },
   "cell_type": "code",
   "source": "LJU_df['transaction_type'].value_counts()\n",
   "id": "b18814e19fca7995",
   "outputs": [
    {
     "data": {
      "text/plain": [
       "transaction_type\n",
       "New                      177813\n",
       "Renewal                    6622\n",
       "TBD                        4280\n",
       "Relocation                 3470\n",
       "Expansion                  1019\n",
       "Renewal and Expansion       477\n",
       "Extension                   257\n",
       "Restructure                 190\n",
       "Sale - Leaseback             18\n",
       "Name: count, dtype: int64"
      ]
     },
     "execution_count": 14,
     "metadata": {},
     "output_type": "execute_result"
    }
   ],
   "execution_count": 14
  },
  {
   "metadata": {},
   "cell_type": "markdown",
   "source": "Lets remove New since we can",
   "id": "722256620b75cf0"
  },
  {
   "metadata": {
    "ExecuteTime": {
     "end_time": "2025-04-13T01:46:51.293176Z",
     "start_time": "2025-04-13T01:46:51.249332Z"
    }
   },
   "cell_type": "code",
   "source": [
    "# Step 1: Filter rows where transaction_type is your target value\n",
    "filtered_transaction_type_New= LJU_df[LJU_df['transaction_type'] == 'New']\n",
    "\n",
    "# Step 2: Count unique states\n",
    "unique_state_count = filtered_transaction_type_New['market'].nunique()\n",
    "print(f\"Number of unique states involved in Lease transactions: {unique_state_count}\")\n"
   ],
   "id": "870f8e182d065b22",
   "outputs": [
    {
     "name": "stdout",
     "output_type": "stream",
     "text": [
      "Number of unique states involved in Lease transactions: 29\n"
     ]
    }
   ],
   "execution_count": 15
  },
  {
   "metadata": {},
   "cell_type": "markdown",
   "source": "## The most States with the most observations\n",
   "id": "ad9ed312ecaa74e1"
  },
  {
   "metadata": {},
   "cell_type": "markdown",
   "source": "We found that market has the least missing values",
   "id": "1131562077d656f8"
  },
  {
   "metadata": {
    "ExecuteTime": {
     "end_time": "2025-04-13T01:47:08.649025Z",
     "start_time": "2025-04-13T01:47:08.639434Z"
    }
   },
   "cell_type": "code",
   "source": "LJU_df['market'].value_counts()",
   "id": "d7a44a1049fe4c5b",
   "outputs": [
    {
     "data": {
      "text/plain": [
       "market\n",
       "Manhattan              16961\n",
       "Houston                16014\n",
       "Los Angeles            15571\n",
       "Dallas/Ft Worth        15272\n",
       "South Florida          11919\n",
       "Denver                  8957\n",
       "Boston                  8236\n",
       "Atlanta                 7739\n",
       "Phoenix                 7379\n",
       "Orange County           7196\n",
       "San Diego               6326\n",
       "Chicago Suburbs         6232\n",
       "Northern Virginia       6086\n",
       "Seattle                 5344\n",
       "Chicago                 5140\n",
       "Austin                  4997\n",
       "Northern New Jersey     4809\n",
       "Tampa                   4803\n",
       "Philadelphia            4406\n",
       "Washington D.C.         4064\n",
       "Baltimore               3957\n",
       "San Francisco           3574\n",
       "Detroit                 3531\n",
       "South Bay/San Jose      3401\n",
       "Charlotte               3363\n",
       "Southern Maryland       2736\n",
       "Nashville               2534\n",
       "Raleigh/Durham          2375\n",
       "Salt Lake City          1763\n",
       "Name: count, dtype: int64"
      ]
     },
     "execution_count": 17,
     "metadata": {},
     "output_type": "execute_result"
    }
   ],
   "execution_count": 17
  },
  {
   "metadata": {},
   "cell_type": "markdown",
   "source": [
    "The top 5 states that have the most leasing observations\n",
    "- Manhattan\n",
    "- Houston\n",
    "- Los Angeles\n",
    "- Dallas/Ft Wirth\n",
    "- South Florida\n",
    "- Denver\n"
   ],
   "id": "737d03e03559629"
  },
  {
   "metadata": {},
   "cell_type": "markdown",
   "source": "### Lets remove the New and the Manhattan from the top 6 markets",
   "id": "e4478f1395694d5b"
  },
  {
   "metadata": {
    "ExecuteTime": {
     "end_time": "2025-04-13T01:47:39.131799Z",
     "start_time": "2025-04-13T01:47:39.098778Z"
    }
   },
   "cell_type": "code",
   "source": [
    "# Step 1: Get the top 6 most frequent markets\n",
    "top_6_markets = LJU_df['market'].value_counts().nlargest(6).index\n",
    "\n",
    "# Step 2: Filter the DataFrame for those top markets\n",
    "top_6_df = LJU_df[LJU_df['market'].isin(top_6_markets)]\n",
    "\n",
    "# Step 3: Preview\n",
    "print(\"Top 6 most frequent markets:\")\n",
    "print(top_6_markets.tolist())\n",
    "\n",
    "top_6_df.head()\n"
   ],
   "id": "b8735dd52d6e8229",
   "outputs": [
    {
     "name": "stdout",
     "output_type": "stream",
     "text": [
      "Top 6 most frequent markets:\n",
      "['Manhattan', 'Houston', 'Los Angeles', 'Dallas/Ft Worth', 'South Florida', 'Denver']\n"
     ]
    },
    {
     "data": {
      "text/plain": [
       "     year quarter  monthsigned           market       building_name  \\\n",
       "565  2018      Q1          1.0  Dallas/Ft Worth           10000 NCX   \n",
       "566  2018      Q1          1.0  Dallas/Ft Worth  1100 East Campbell   \n",
       "567  2018      Q1          1.0  Dallas/Ft Worth          1111 Tower   \n",
       "568  2018      Q1          1.0  Dallas/Ft Worth          1111 Tower   \n",
       "569  2018      Q1          1.0  Dallas/Ft Worth          1111 Tower   \n",
       "\n",
       "                                           building_id                address  \\\n",
       "565  Dallas/Ft Worth_Central Expressway_Dallas_1000...   10000 N Central Expy   \n",
       "566  Dallas/Ft Worth_Richardson Telecom Corridor_Ri...     1100 E Campbell Rd   \n",
       "567  Dallas/Ft Worth_Stemmons_Dallas_1111 Tower_111...  1111 W Mockingbird Ln   \n",
       "568  Dallas/Ft Worth_Stemmons_Dallas_1111 Tower_111...  1111 W Mockingbird Ln   \n",
       "569  Dallas/Ft Worth_Stemmons_Dallas_1111 Tower_111...  1111 W Mockingbird Ln   \n",
       "\n",
       "    region        city state  ...  direct_available_space  \\\n",
       "565  South      Dallas    TX  ...                     NaN   \n",
       "566  South  Richardson    TX  ...                     NaN   \n",
       "567  South      Dallas    TX  ...                     NaN   \n",
       "568  South      Dallas    TX  ...                     NaN   \n",
       "569  South      Dallas    TX  ...                     NaN   \n",
       "\n",
       "    direct_availability_proportion direct_internal_class_rent  \\\n",
       "565                            NaN                        NaN   \n",
       "566                            NaN                        NaN   \n",
       "567                            NaN                        NaN   \n",
       "568                            NaN                        NaN   \n",
       "569                            NaN                        NaN   \n",
       "\n",
       "     direct_overall_rent sublet_available_space  \\\n",
       "565                  NaN                    NaN   \n",
       "566                  NaN                    NaN   \n",
       "567                  NaN                    NaN   \n",
       "568                  NaN                    NaN   \n",
       "569                  NaN                    NaN   \n",
       "\n",
       "    sublet_availability_proportion sublet_internal_class_rent  \\\n",
       "565                            NaN                        NaN   \n",
       "566                            NaN                        NaN   \n",
       "567                            NaN                        NaN   \n",
       "568                            NaN                        NaN   \n",
       "569                            NaN                        NaN   \n",
       "\n",
       "    sublet_overall_rent  leasing unemployment_rate  \n",
       "565                 NaN      NaN               4.1  \n",
       "566                 NaN      NaN               4.1  \n",
       "567                 NaN      NaN               4.1  \n",
       "568                 NaN      NaN               4.1  \n",
       "569                 NaN      NaN               4.1  \n",
       "\n",
       "[5 rows x 36 columns]"
      ],
      "text/html": [
       "<div>\n",
       "<style scoped>\n",
       "    .dataframe tbody tr th:only-of-type {\n",
       "        vertical-align: middle;\n",
       "    }\n",
       "\n",
       "    .dataframe tbody tr th {\n",
       "        vertical-align: top;\n",
       "    }\n",
       "\n",
       "    .dataframe thead th {\n",
       "        text-align: right;\n",
       "    }\n",
       "</style>\n",
       "<table border=\"1\" class=\"dataframe\">\n",
       "  <thead>\n",
       "    <tr style=\"text-align: right;\">\n",
       "      <th></th>\n",
       "      <th>year</th>\n",
       "      <th>quarter</th>\n",
       "      <th>monthsigned</th>\n",
       "      <th>market</th>\n",
       "      <th>building_name</th>\n",
       "      <th>building_id</th>\n",
       "      <th>address</th>\n",
       "      <th>region</th>\n",
       "      <th>city</th>\n",
       "      <th>state</th>\n",
       "      <th>...</th>\n",
       "      <th>direct_available_space</th>\n",
       "      <th>direct_availability_proportion</th>\n",
       "      <th>direct_internal_class_rent</th>\n",
       "      <th>direct_overall_rent</th>\n",
       "      <th>sublet_available_space</th>\n",
       "      <th>sublet_availability_proportion</th>\n",
       "      <th>sublet_internal_class_rent</th>\n",
       "      <th>sublet_overall_rent</th>\n",
       "      <th>leasing</th>\n",
       "      <th>unemployment_rate</th>\n",
       "    </tr>\n",
       "  </thead>\n",
       "  <tbody>\n",
       "    <tr>\n",
       "      <th>565</th>\n",
       "      <td>2018</td>\n",
       "      <td>Q1</td>\n",
       "      <td>1.0</td>\n",
       "      <td>Dallas/Ft Worth</td>\n",
       "      <td>10000 NCX</td>\n",
       "      <td>Dallas/Ft Worth_Central Expressway_Dallas_1000...</td>\n",
       "      <td>10000 N Central Expy</td>\n",
       "      <td>South</td>\n",
       "      <td>Dallas</td>\n",
       "      <td>TX</td>\n",
       "      <td>...</td>\n",
       "      <td>NaN</td>\n",
       "      <td>NaN</td>\n",
       "      <td>NaN</td>\n",
       "      <td>NaN</td>\n",
       "      <td>NaN</td>\n",
       "      <td>NaN</td>\n",
       "      <td>NaN</td>\n",
       "      <td>NaN</td>\n",
       "      <td>NaN</td>\n",
       "      <td>4.1</td>\n",
       "    </tr>\n",
       "    <tr>\n",
       "      <th>566</th>\n",
       "      <td>2018</td>\n",
       "      <td>Q1</td>\n",
       "      <td>1.0</td>\n",
       "      <td>Dallas/Ft Worth</td>\n",
       "      <td>1100 East Campbell</td>\n",
       "      <td>Dallas/Ft Worth_Richardson Telecom Corridor_Ri...</td>\n",
       "      <td>1100 E Campbell Rd</td>\n",
       "      <td>South</td>\n",
       "      <td>Richardson</td>\n",
       "      <td>TX</td>\n",
       "      <td>...</td>\n",
       "      <td>NaN</td>\n",
       "      <td>NaN</td>\n",
       "      <td>NaN</td>\n",
       "      <td>NaN</td>\n",
       "      <td>NaN</td>\n",
       "      <td>NaN</td>\n",
       "      <td>NaN</td>\n",
       "      <td>NaN</td>\n",
       "      <td>NaN</td>\n",
       "      <td>4.1</td>\n",
       "    </tr>\n",
       "    <tr>\n",
       "      <th>567</th>\n",
       "      <td>2018</td>\n",
       "      <td>Q1</td>\n",
       "      <td>1.0</td>\n",
       "      <td>Dallas/Ft Worth</td>\n",
       "      <td>1111 Tower</td>\n",
       "      <td>Dallas/Ft Worth_Stemmons_Dallas_1111 Tower_111...</td>\n",
       "      <td>1111 W Mockingbird Ln</td>\n",
       "      <td>South</td>\n",
       "      <td>Dallas</td>\n",
       "      <td>TX</td>\n",
       "      <td>...</td>\n",
       "      <td>NaN</td>\n",
       "      <td>NaN</td>\n",
       "      <td>NaN</td>\n",
       "      <td>NaN</td>\n",
       "      <td>NaN</td>\n",
       "      <td>NaN</td>\n",
       "      <td>NaN</td>\n",
       "      <td>NaN</td>\n",
       "      <td>NaN</td>\n",
       "      <td>4.1</td>\n",
       "    </tr>\n",
       "    <tr>\n",
       "      <th>568</th>\n",
       "      <td>2018</td>\n",
       "      <td>Q1</td>\n",
       "      <td>1.0</td>\n",
       "      <td>Dallas/Ft Worth</td>\n",
       "      <td>1111 Tower</td>\n",
       "      <td>Dallas/Ft Worth_Stemmons_Dallas_1111 Tower_111...</td>\n",
       "      <td>1111 W Mockingbird Ln</td>\n",
       "      <td>South</td>\n",
       "      <td>Dallas</td>\n",
       "      <td>TX</td>\n",
       "      <td>...</td>\n",
       "      <td>NaN</td>\n",
       "      <td>NaN</td>\n",
       "      <td>NaN</td>\n",
       "      <td>NaN</td>\n",
       "      <td>NaN</td>\n",
       "      <td>NaN</td>\n",
       "      <td>NaN</td>\n",
       "      <td>NaN</td>\n",
       "      <td>NaN</td>\n",
       "      <td>4.1</td>\n",
       "    </tr>\n",
       "    <tr>\n",
       "      <th>569</th>\n",
       "      <td>2018</td>\n",
       "      <td>Q1</td>\n",
       "      <td>1.0</td>\n",
       "      <td>Dallas/Ft Worth</td>\n",
       "      <td>1111 Tower</td>\n",
       "      <td>Dallas/Ft Worth_Stemmons_Dallas_1111 Tower_111...</td>\n",
       "      <td>1111 W Mockingbird Ln</td>\n",
       "      <td>South</td>\n",
       "      <td>Dallas</td>\n",
       "      <td>TX</td>\n",
       "      <td>...</td>\n",
       "      <td>NaN</td>\n",
       "      <td>NaN</td>\n",
       "      <td>NaN</td>\n",
       "      <td>NaN</td>\n",
       "      <td>NaN</td>\n",
       "      <td>NaN</td>\n",
       "      <td>NaN</td>\n",
       "      <td>NaN</td>\n",
       "      <td>NaN</td>\n",
       "      <td>4.1</td>\n",
       "    </tr>\n",
       "  </tbody>\n",
       "</table>\n",
       "<p>5 rows × 36 columns</p>\n",
       "</div>"
      ]
     },
     "execution_count": 19,
     "metadata": {},
     "output_type": "execute_result"
    }
   ],
   "execution_count": 19
  },
  {
   "metadata": {
    "ExecuteTime": {
     "end_time": "2025-04-13T01:47:48.098239Z",
     "start_time": "2025-04-13T01:47:48.092472Z"
    }
   },
   "cell_type": "code",
   "source": [
    "# verify its only the top 6 markets\n",
    "unique_state_count = top_6_df['market'].nunique()\n",
    "unique_state_count"
   ],
   "id": "dfb3aa920ba850cd",
   "outputs": [
    {
     "data": {
      "text/plain": [
       "6"
      ]
     },
     "execution_count": 20,
     "metadata": {},
     "output_type": "execute_result"
    }
   ],
   "execution_count": 20
  },
  {
   "metadata": {
    "ExecuteTime": {
     "end_time": "2025-04-13T01:47:50.406843Z",
     "start_time": "2025-04-13T01:47:50.404391Z"
    }
   },
   "cell_type": "code",
   "source": [
    "print(\"Top 6 most frequent markets:\")\n",
    "for i, market in enumerate(top_6_markets, 1):\n",
    "    print(f\"{i}. {market}\")"
   ],
   "id": "6f09a1ec6aa113b",
   "outputs": [
    {
     "name": "stdout",
     "output_type": "stream",
     "text": [
      "Top 6 most frequent markets:\n",
      "1. Manhattan\n",
      "2. Houston\n",
      "3. Los Angeles\n",
      "4. Dallas/Ft Worth\n",
      "5. South Florida\n",
      "6. Denver\n"
     ]
    }
   ],
   "execution_count": 21
  },
  {
   "metadata": {},
   "cell_type": "markdown",
   "source": "now lets drop manhattan",
   "id": "8a6ec904bcbd2517"
  },
  {
   "metadata": {
    "ExecuteTime": {
     "end_time": "2025-04-13T01:47:53.264300Z",
     "start_time": "2025-04-13T01:47:53.243584Z"
    }
   },
   "cell_type": "code",
   "source": [
    "top5_frequent_market_df = top_6_df[top_6_df['market'] != 'Manhattan']\n",
    "\n",
    "top5_frequent_market_df.head()\n"
   ],
   "id": "4f6b4adf8bbd5680",
   "outputs": [
    {
     "data": {
      "text/plain": [
       "     year quarter  monthsigned           market       building_name  \\\n",
       "565  2018      Q1          1.0  Dallas/Ft Worth           10000 NCX   \n",
       "566  2018      Q1          1.0  Dallas/Ft Worth  1100 East Campbell   \n",
       "567  2018      Q1          1.0  Dallas/Ft Worth          1111 Tower   \n",
       "568  2018      Q1          1.0  Dallas/Ft Worth          1111 Tower   \n",
       "569  2018      Q1          1.0  Dallas/Ft Worth          1111 Tower   \n",
       "\n",
       "                                           building_id                address  \\\n",
       "565  Dallas/Ft Worth_Central Expressway_Dallas_1000...   10000 N Central Expy   \n",
       "566  Dallas/Ft Worth_Richardson Telecom Corridor_Ri...     1100 E Campbell Rd   \n",
       "567  Dallas/Ft Worth_Stemmons_Dallas_1111 Tower_111...  1111 W Mockingbird Ln   \n",
       "568  Dallas/Ft Worth_Stemmons_Dallas_1111 Tower_111...  1111 W Mockingbird Ln   \n",
       "569  Dallas/Ft Worth_Stemmons_Dallas_1111 Tower_111...  1111 W Mockingbird Ln   \n",
       "\n",
       "    region        city state  ...  direct_available_space  \\\n",
       "565  South      Dallas    TX  ...                     NaN   \n",
       "566  South  Richardson    TX  ...                     NaN   \n",
       "567  South      Dallas    TX  ...                     NaN   \n",
       "568  South      Dallas    TX  ...                     NaN   \n",
       "569  South      Dallas    TX  ...                     NaN   \n",
       "\n",
       "    direct_availability_proportion direct_internal_class_rent  \\\n",
       "565                            NaN                        NaN   \n",
       "566                            NaN                        NaN   \n",
       "567                            NaN                        NaN   \n",
       "568                            NaN                        NaN   \n",
       "569                            NaN                        NaN   \n",
       "\n",
       "     direct_overall_rent sublet_available_space  \\\n",
       "565                  NaN                    NaN   \n",
       "566                  NaN                    NaN   \n",
       "567                  NaN                    NaN   \n",
       "568                  NaN                    NaN   \n",
       "569                  NaN                    NaN   \n",
       "\n",
       "    sublet_availability_proportion sublet_internal_class_rent  \\\n",
       "565                            NaN                        NaN   \n",
       "566                            NaN                        NaN   \n",
       "567                            NaN                        NaN   \n",
       "568                            NaN                        NaN   \n",
       "569                            NaN                        NaN   \n",
       "\n",
       "    sublet_overall_rent  leasing unemployment_rate  \n",
       "565                 NaN      NaN               4.1  \n",
       "566                 NaN      NaN               4.1  \n",
       "567                 NaN      NaN               4.1  \n",
       "568                 NaN      NaN               4.1  \n",
       "569                 NaN      NaN               4.1  \n",
       "\n",
       "[5 rows x 36 columns]"
      ],
      "text/html": [
       "<div>\n",
       "<style scoped>\n",
       "    .dataframe tbody tr th:only-of-type {\n",
       "        vertical-align: middle;\n",
       "    }\n",
       "\n",
       "    .dataframe tbody tr th {\n",
       "        vertical-align: top;\n",
       "    }\n",
       "\n",
       "    .dataframe thead th {\n",
       "        text-align: right;\n",
       "    }\n",
       "</style>\n",
       "<table border=\"1\" class=\"dataframe\">\n",
       "  <thead>\n",
       "    <tr style=\"text-align: right;\">\n",
       "      <th></th>\n",
       "      <th>year</th>\n",
       "      <th>quarter</th>\n",
       "      <th>monthsigned</th>\n",
       "      <th>market</th>\n",
       "      <th>building_name</th>\n",
       "      <th>building_id</th>\n",
       "      <th>address</th>\n",
       "      <th>region</th>\n",
       "      <th>city</th>\n",
       "      <th>state</th>\n",
       "      <th>...</th>\n",
       "      <th>direct_available_space</th>\n",
       "      <th>direct_availability_proportion</th>\n",
       "      <th>direct_internal_class_rent</th>\n",
       "      <th>direct_overall_rent</th>\n",
       "      <th>sublet_available_space</th>\n",
       "      <th>sublet_availability_proportion</th>\n",
       "      <th>sublet_internal_class_rent</th>\n",
       "      <th>sublet_overall_rent</th>\n",
       "      <th>leasing</th>\n",
       "      <th>unemployment_rate</th>\n",
       "    </tr>\n",
       "  </thead>\n",
       "  <tbody>\n",
       "    <tr>\n",
       "      <th>565</th>\n",
       "      <td>2018</td>\n",
       "      <td>Q1</td>\n",
       "      <td>1.0</td>\n",
       "      <td>Dallas/Ft Worth</td>\n",
       "      <td>10000 NCX</td>\n",
       "      <td>Dallas/Ft Worth_Central Expressway_Dallas_1000...</td>\n",
       "      <td>10000 N Central Expy</td>\n",
       "      <td>South</td>\n",
       "      <td>Dallas</td>\n",
       "      <td>TX</td>\n",
       "      <td>...</td>\n",
       "      <td>NaN</td>\n",
       "      <td>NaN</td>\n",
       "      <td>NaN</td>\n",
       "      <td>NaN</td>\n",
       "      <td>NaN</td>\n",
       "      <td>NaN</td>\n",
       "      <td>NaN</td>\n",
       "      <td>NaN</td>\n",
       "      <td>NaN</td>\n",
       "      <td>4.1</td>\n",
       "    </tr>\n",
       "    <tr>\n",
       "      <th>566</th>\n",
       "      <td>2018</td>\n",
       "      <td>Q1</td>\n",
       "      <td>1.0</td>\n",
       "      <td>Dallas/Ft Worth</td>\n",
       "      <td>1100 East Campbell</td>\n",
       "      <td>Dallas/Ft Worth_Richardson Telecom Corridor_Ri...</td>\n",
       "      <td>1100 E Campbell Rd</td>\n",
       "      <td>South</td>\n",
       "      <td>Richardson</td>\n",
       "      <td>TX</td>\n",
       "      <td>...</td>\n",
       "      <td>NaN</td>\n",
       "      <td>NaN</td>\n",
       "      <td>NaN</td>\n",
       "      <td>NaN</td>\n",
       "      <td>NaN</td>\n",
       "      <td>NaN</td>\n",
       "      <td>NaN</td>\n",
       "      <td>NaN</td>\n",
       "      <td>NaN</td>\n",
       "      <td>4.1</td>\n",
       "    </tr>\n",
       "    <tr>\n",
       "      <th>567</th>\n",
       "      <td>2018</td>\n",
       "      <td>Q1</td>\n",
       "      <td>1.0</td>\n",
       "      <td>Dallas/Ft Worth</td>\n",
       "      <td>1111 Tower</td>\n",
       "      <td>Dallas/Ft Worth_Stemmons_Dallas_1111 Tower_111...</td>\n",
       "      <td>1111 W Mockingbird Ln</td>\n",
       "      <td>South</td>\n",
       "      <td>Dallas</td>\n",
       "      <td>TX</td>\n",
       "      <td>...</td>\n",
       "      <td>NaN</td>\n",
       "      <td>NaN</td>\n",
       "      <td>NaN</td>\n",
       "      <td>NaN</td>\n",
       "      <td>NaN</td>\n",
       "      <td>NaN</td>\n",
       "      <td>NaN</td>\n",
       "      <td>NaN</td>\n",
       "      <td>NaN</td>\n",
       "      <td>4.1</td>\n",
       "    </tr>\n",
       "    <tr>\n",
       "      <th>568</th>\n",
       "      <td>2018</td>\n",
       "      <td>Q1</td>\n",
       "      <td>1.0</td>\n",
       "      <td>Dallas/Ft Worth</td>\n",
       "      <td>1111 Tower</td>\n",
       "      <td>Dallas/Ft Worth_Stemmons_Dallas_1111 Tower_111...</td>\n",
       "      <td>1111 W Mockingbird Ln</td>\n",
       "      <td>South</td>\n",
       "      <td>Dallas</td>\n",
       "      <td>TX</td>\n",
       "      <td>...</td>\n",
       "      <td>NaN</td>\n",
       "      <td>NaN</td>\n",
       "      <td>NaN</td>\n",
       "      <td>NaN</td>\n",
       "      <td>NaN</td>\n",
       "      <td>NaN</td>\n",
       "      <td>NaN</td>\n",
       "      <td>NaN</td>\n",
       "      <td>NaN</td>\n",
       "      <td>4.1</td>\n",
       "    </tr>\n",
       "    <tr>\n",
       "      <th>569</th>\n",
       "      <td>2018</td>\n",
       "      <td>Q1</td>\n",
       "      <td>1.0</td>\n",
       "      <td>Dallas/Ft Worth</td>\n",
       "      <td>1111 Tower</td>\n",
       "      <td>Dallas/Ft Worth_Stemmons_Dallas_1111 Tower_111...</td>\n",
       "      <td>1111 W Mockingbird Ln</td>\n",
       "      <td>South</td>\n",
       "      <td>Dallas</td>\n",
       "      <td>TX</td>\n",
       "      <td>...</td>\n",
       "      <td>NaN</td>\n",
       "      <td>NaN</td>\n",
       "      <td>NaN</td>\n",
       "      <td>NaN</td>\n",
       "      <td>NaN</td>\n",
       "      <td>NaN</td>\n",
       "      <td>NaN</td>\n",
       "      <td>NaN</td>\n",
       "      <td>NaN</td>\n",
       "      <td>4.1</td>\n",
       "    </tr>\n",
       "  </tbody>\n",
       "</table>\n",
       "<p>5 rows × 36 columns</p>\n",
       "</div>"
      ]
     },
     "execution_count": 22,
     "metadata": {},
     "output_type": "execute_result"
    }
   ],
   "execution_count": 22
  },
  {
   "metadata": {
    "ExecuteTime": {
     "end_time": "2025-04-13T01:48:03.543657Z",
     "start_time": "2025-04-13T01:48:03.538073Z"
    }
   },
   "cell_type": "code",
   "source": "top5_frequent_market_df ['market'].value_counts()",
   "id": "2eebe6e98491949b",
   "outputs": [
    {
     "data": {
      "text/plain": [
       "market\n",
       "Houston            16014\n",
       "Los Angeles        15571\n",
       "Dallas/Ft Worth    15272\n",
       "South Florida      11919\n",
       "Denver              8957\n",
       "Name: count, dtype: int64"
      ]
     },
     "execution_count": 23,
     "metadata": {},
     "output_type": "execute_result"
    }
   ],
   "execution_count": 23
  },
  {
   "metadata": {
    "ExecuteTime": {
     "end_time": "2025-04-13T02:02:05.335660Z",
     "start_time": "2025-04-13T02:02:05.330327Z"
    }
   },
   "cell_type": "code",
   "source": "top5_frequent_market_df['space_type'].value_counts()",
   "id": "153953cc978d5f2b",
   "outputs": [
    {
     "data": {
      "text/plain": [
       "space_type\n",
       "Relet     59581\n",
       "Sublet     5137\n",
       "New        2082\n",
       "Name: count, dtype: int64"
      ]
     },
     "execution_count": 35,
     "metadata": {},
     "output_type": "execute_result"
    }
   ],
   "execution_count": 35
  },
  {
   "metadata": {},
   "cell_type": "markdown",
   "source": "`space_type` describes the nature of the lease",
   "id": "5140ece0d68bcda8"
  },
  {
   "metadata": {
    "ExecuteTime": {
     "end_time": "2025-04-13T02:03:48.440975Z",
     "start_time": "2025-04-13T02:03:48.428630Z"
    }
   },
   "cell_type": "code",
   "source": [
    "space_type_counts = (\n",
    "    top5_frequent_market_df\n",
    "    .groupby(['market', 'space_type'])\n",
    "    .size()\n",
    "    .reset_index(name='count')\n",
    "    .sort_values(['market', 'count'], ascending=[True, False])\n",
    ")\n",
    "\n",
    "print(space_type_counts)\n"
   ],
   "id": "dec64ba96e4a34aa",
   "outputs": [
    {
     "name": "stdout",
     "output_type": "stream",
     "text": [
      "             market space_type  count\n",
      "1   Dallas/Ft Worth      Relet  13474\n",
      "2   Dallas/Ft Worth     Sublet   1131\n",
      "0   Dallas/Ft Worth        New    522\n",
      "4            Denver      Relet   7746\n",
      "5            Denver     Sublet    794\n",
      "3            Denver        New    279\n",
      "7           Houston      Relet  14135\n",
      "8           Houston     Sublet   1096\n",
      "6           Houston        New    420\n",
      "10      Los Angeles      Relet  13710\n",
      "11      Los Angeles     Sublet   1350\n",
      "9       Los Angeles        New    457\n",
      "13    South Florida      Relet  10516\n",
      "14    South Florida     Sublet    766\n",
      "12    South Florida        New    404\n"
     ]
    }
   ],
   "execution_count": 36
  },
  {
   "metadata": {},
   "cell_type": "markdown",
   "source": "Relet indicates previously leased to one tenant now leased to a different tenant",
   "id": "abe6f83b08127caa"
  },
  {
   "metadata": {
    "ExecuteTime": {
     "end_time": "2025-04-13T02:15:30.913900Z",
     "start_time": "2025-04-13T02:15:30.651880Z"
    }
   },
   "cell_type": "code",
   "source": [
    "space_type_yearly_counts = (\n",
    "    top5_frequent_market_df\n",
    "    .groupby(['market', 'year', 'space_type'])\n",
    "    .size()\n",
    "    .reset_index(name='count')\n",
    ")\n",
    "\n",
    "import seaborn as sns\n",
    "import matplotlib.pyplot as plt\n",
    "\n",
    "plt.figure(figsize=(12, 6))\n",
    "sns.lineplot(data=space_type_yearly_counts, x='year', y='count', hue='space_type')\n",
    "plt.title(\"Space Type Frequency Over Years (Top Markets)\")\n",
    "plt.xlabel(\"Year\")\n",
    "plt.ylabel(\"Count\")\n",
    "plt.legend(title=\"Space Type\")\n",
    "plt.tight_layout()\n",
    "plt.show()\n"
   ],
   "id": "9f69a2ce3d9530c",
   "outputs": [
    {
     "data": {
      "text/plain": [
       "<Figure size 1200x600 with 1 Axes>"
      ],
      "image/png": "[encoded data removed]"
     },
     "metadata": {},
     "output_type": "display_data"
    }
   ],
   "execution_count": 42
  },
  {
   "metadata": {},
   "cell_type": "code",
   "outputs": [],
   "execution_count": null,
   "source": "",
   "id": "99ffd99048b482ed"
  },
  {
   "metadata": {
    "ExecuteTime": {
     "end_time": "2025-04-13T01:02:21.858913Z",
     "start_time": "2025-04-13T01:02:21.852162Z"
    }
   },
   "cell_type": "code",
   "source": [
    "highly_correlated_vars = [\"available_space\", \"overall_rent\", \"unemployment_rate\", \"leasing\"]\n",
    "child_df = df[highly_correlated_vars]\n",
    "\n"
   ],
   "id": "1d79d7424ebe7a6d",
   "outputs": [
    {
     "data": {
      "text/plain": [
       "   available_space  overall_rent  unemployment_rate    leasing\n",
       "0       20239067.0     24.345689                4.3  1205126.0\n",
       "1       20239067.0     24.345689                4.3  1205126.0\n",
       "2       20239067.0     24.345689                4.3  1205126.0\n",
       "3       12728989.0     24.345689                4.3   715742.0\n",
       "4       20239067.0     24.345689                4.3  1205126.0"
      ],
      "text/html": [
       "<div>\n",
       "<style scoped>\n",
       "    .dataframe tbody tr th:only-of-type {\n",
       "        vertical-align: middle;\n",
       "    }\n",
       "\n",
       "    .dataframe tbody tr th {\n",
       "        vertical-align: top;\n",
       "    }\n",
       "\n",
       "    .dataframe thead th {\n",
       "        text-align: right;\n",
       "    }\n",
       "</style>\n",
       "<table border=\"1\" class=\"dataframe\">\n",
       "  <thead>\n",
       "    <tr style=\"text-align: right;\">\n",
       "      <th></th>\n",
       "      <th>available_space</th>\n",
       "      <th>overall_rent</th>\n",
       "      <th>unemployment_rate</th>\n",
       "      <th>leasing</th>\n",
       "    </tr>\n",
       "  </thead>\n",
       "  <tbody>\n",
       "    <tr>\n",
       "      <th>0</th>\n",
       "      <td>20239067.0</td>\n",
       "      <td>24.345689</td>\n",
       "      <td>4.3</td>\n",
       "      <td>1205126.0</td>\n",
       "    </tr>\n",
       "    <tr>\n",
       "      <th>1</th>\n",
       "      <td>20239067.0</td>\n",
       "      <td>24.345689</td>\n",
       "      <td>4.3</td>\n",
       "      <td>1205126.0</td>\n",
       "    </tr>\n",
       "    <tr>\n",
       "      <th>2</th>\n",
       "      <td>20239067.0</td>\n",
       "      <td>24.345689</td>\n",
       "      <td>4.3</td>\n",
       "      <td>1205126.0</td>\n",
       "    </tr>\n",
       "    <tr>\n",
       "      <th>3</th>\n",
       "      <td>12728989.0</td>\n",
       "      <td>24.345689</td>\n",
       "      <td>4.3</td>\n",
       "      <td>715742.0</td>\n",
       "    </tr>\n",
       "    <tr>\n",
       "      <th>4</th>\n",
       "      <td>20239067.0</td>\n",
       "      <td>24.345689</td>\n",
       "      <td>4.3</td>\n",
       "      <td>1205126.0</td>\n",
       "    </tr>\n",
       "  </tbody>\n",
       "</table>\n",
       "</div>"
      ]
     },
     "execution_count": 47,
     "metadata": {},
     "output_type": "execute_result"
    }
   ],
   "execution_count": 47
  }
 ],
 "metadata": {
  "kernelspec": {
   "display_name": "Python 3",
   "language": "python",
   "name": "python3"
  },
  "language_info": {
   "codemirror_mode": {
    "name": "ipython",
    "version": 2
   },
   "file_extension": ".py",
   "mimetype": "text/x-python",
   "name": "python",
   "nbconvert_exporter": "python",
   "pygments_lexer": "ipython2",
   "version": "2.7.6"
  }
 },
 "nbformat": 4,
 "nbformat_minor": 5
}
